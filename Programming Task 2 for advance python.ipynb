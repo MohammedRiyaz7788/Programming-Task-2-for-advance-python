{
 "cells": [
  {
   "cell_type": "code",
   "execution_count": 1,
   "id": "5b49e0c7",
   "metadata": {},
   "outputs": [
    {
     "name": "stdout",
     "output_type": "stream",
     "text": [
      "234\n",
      "15\n"
     ]
    }
   ],
   "source": [
    "#Subtract the Product and Sum of Digits of an Integer\n",
    "n = int(input())\n",
    "sum=0\n",
    "pro=1\n",
    "while n:\n",
    "    sum+=n%10\n",
    "    pro*=n%10\n",
    "    n//=10\n",
    "print(pro-sum)"
   ]
  },
  {
   "cell_type": "code",
   "execution_count": 3,
   "id": "d299eb0d",
   "metadata": {},
   "outputs": [],
   "source": [
    "#Defanging an IP Address\n",
    "def defangIPaddr(self, address: str) -> str:\n",
    "        s = ''\n",
    "        for i in address:\n",
    "            if i == '.': s+='[.]'\n",
    "            else: s+=i\n",
    "        return s"
   ]
  },
  {
   "cell_type": "code",
   "execution_count": 8,
   "id": "736fefcf",
   "metadata": {},
   "outputs": [],
   "source": [
    "#Find Numbers with Even Number of Digits\n",
    "class Solution(object):\n",
    "    def findNumbers(self, nums):\n",
    "        str_num = map(str, nums)\n",
    "        count = 0\n",
    "        for s in str_num:\n",
    "            if len(s) % 2 == 0:\n",
    "                count += 1\n",
    "            return count"
   ]
  },
  {
   "cell_type": "code",
   "execution_count": 5,
   "id": "4f6124dd",
   "metadata": {},
   "outputs": [],
   "source": [
    "#Subtract the Product and Sum of Digits of an Integer\n",
    "class Solution:\n",
    "    def subtractProductAndSum(self, n: int) -> int:\n",
    "        product = 1\n",
    "        sum = 0\n",
    "        for digit in str(n):\n",
    "            product *= int(digit)\n",
    "            sum += int(digit)\n",
    "        return product - sum"
   ]
  },
  {
   "cell_type": "code",
   "execution_count": 6,
   "id": "466c2398",
   "metadata": {},
   "outputs": [],
   "source": [
    "#XOR Operation in an Array\n",
    "class Solution:\n",
    "    def xorOperation(self, n: int, start: int) -> int:\n",
    "        nums = []\n",
    "        xor = 0\n",
    "        for i in range(n):\n",
    "            calc = start + 2 * i\n",
    "            nums.append(calc)\n",
    "        for i in nums:\n",
    "            xor = xor ^ i\n",
    "        return xor"
   ]
  },
  {
   "cell_type": "code",
   "execution_count": null,
   "id": "1ec9b7ac",
   "metadata": {},
   "outputs": [],
   "source": [
    "n=int(input())\n",
    "a=list(map(int,input().strip().split()))\n",
    "for i in range(n):\n",
    "    c=0\n",
    "    for j in range(n):\n",
    "        if(i!=j):\n",
    "            if(a[i]>a[j]):\n",
    "                c+=1"
   ]
  }
 ],
 "metadata": {
  "kernelspec": {
   "display_name": "Python 3 (ipykernel)",
   "language": "python",
   "name": "python3"
  },
  "language_info": {
   "codemirror_mode": {
    "name": "ipython",
    "version": 3
   },
   "file_extension": ".py",
   "mimetype": "text/x-python",
   "name": "python",
   "nbconvert_exporter": "python",
   "pygments_lexer": "ipython3",
   "version": "3.9.12"
  }
 },
 "nbformat": 4,
 "nbformat_minor": 5
}
